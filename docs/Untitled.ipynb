{
 "cells": [
  {
   "cell_type": "code",
   "execution_count": 2,
   "id": "b0c2ea98-0dd8-4bea-8374-239d052b468d",
   "metadata": {},
   "outputs": [
    {
     "ename": "ModuleNotFoundError",
     "evalue": "No module named 'verticapy.vDataFrame'",
     "output_type": "error",
     "traceback": [
      "\u001b[0;31m---------------------------------------------------------------------------\u001b[0m",
      "\u001b[0;31mModuleNotFoundError\u001b[0m                       Traceback (most recent call last)",
      "Cell \u001b[0;32mIn [3], line 1\u001b[0m\n\u001b[0;32m----> 1\u001b[0m \u001b[38;5;28;01mimport\u001b[39;00m \u001b[38;5;21;01mverticapy\u001b[39;00m\u001b[38;5;21;01m.\u001b[39;00m\u001b[38;5;21;01mvDataFrame\u001b[39;00m \u001b[38;5;28;01mas\u001b[39;00m \u001b[38;5;21;01mvdf\u001b[39;00m\n",
      "\u001b[0;31mModuleNotFoundError\u001b[0m: No module named 'verticapy.vDataFrame'"
     ]
    }
   ],
   "source": [
    "import verticapy as vp"
   ]
  },
  {
   "cell_type": "code",
   "execution_count": 4,
   "id": "0137cfbf-c6da-4567-b1b6-adb2d05b2f52",
   "metadata": {},
   "outputs": [
    {
     "data": {
      "text/plain": [
       "<function verticapy.core.vdataframe._plotting.vDFPlot.bar(self, columns: Annotated[Union[str, list[str]], 'STRING representing one column or a list of columns'], method: Union[Literal['density', 'count', 'avg', 'min', 'max', 'sum'], str] = 'density', of: Optional[str] = None, max_cardinality: tuple[int, int] = (6, 6), h: tuple[typing.Annotated[typing.Union[int, float, decimal.Decimal], 'Python Numbers'], typing.Annotated[typing.Union[int, float, decimal.Decimal], 'Python Numbers']] = (None, None), kind: Literal['auto', 'drilldown', 'stacked'] = 'auto', chart: Union[ForwardRef('PlottingBase'), ForwardRef('TableSample'), ForwardRef('Axes'), ForwardRef('mFigure'), ForwardRef('Highchart'), ForwardRef('Highstock'), ForwardRef('Figure'), NoneType] = None, **style_kwargs) -> Union[ForwardRef('PlottingBase'), ForwardRef('TableSample'), ForwardRef('Axes'), ForwardRef('mFigure'), ForwardRef('Highchart'), ForwardRef('Highstock'), ForwardRef('Figure')]>"
      ]
     },
     "execution_count": 4,
     "metadata": {},
     "output_type": "execute_result"
    }
   ],
   "source": [
    "vp.vDataFrame.bar"
   ]
  },
  {
   "cell_type": "code",
   "execution_count": 5,
   "id": "52ea5850-b1b8-4252-b3a0-8f7327a1a0b9",
   "metadata": {},
   "outputs": [
    {
     "ename": "AttributeError",
     "evalue": "module 'verticapy' has no attribute 'vDataColumn'",
     "output_type": "error",
     "traceback": [
      "\u001b[0;31m---------------------------------------------------------------------------\u001b[0m",
      "\u001b[0;31mAttributeError\u001b[0m                            Traceback (most recent call last)",
      "Cell \u001b[0;32mIn [5], line 1\u001b[0m\n\u001b[0;32m----> 1\u001b[0m \u001b[43mvp\u001b[49m\u001b[38;5;241;43m.\u001b[39;49m\u001b[43mvDataColumn\u001b[49m\u001b[38;5;241m.\u001b[39mbar\n",
      "\u001b[0;31mAttributeError\u001b[0m: module 'verticapy' has no attribute 'vDataColumn'"
     ]
    }
   ],
   "source": [
    "vp.vDataColumn.bar"
   ]
  },
  {
   "cell_type": "code",
   "execution_count": 6,
   "id": "865dcddb-1f60-4fdc-9959-f558e209a90c",
   "metadata": {},
   "outputs": [
    {
     "name": "stdout",
     "output_type": "stream",
     "text": [
      "\u001b[0m\u001b[01;32mMakefile\u001b[0m*       \u001b[34;42mbuild\u001b[0m/     \u001b[34;42mouts\u001b[0m/              replace_sphinx_dir.py\n",
      "Untitled.ipynb  \u001b[34;42mfigures\u001b[0m/   \u001b[01;32mrefresh.sh\u001b[0m*        \u001b[01;32mrequirements.txt\u001b[0m*\n",
      "\u001b[34;42m_templates\u001b[0m/     \u001b[01;32mmake.bat\u001b[0m*  remove_pattern.py  \u001b[34;42msource\u001b[0m/\n"
     ]
    }
   ],
   "source": [
    "ls"
   ]
  },
  {
   "cell_type": "code",
   "execution_count": null,
   "id": "68525c56-af78-4288-8f46-d374b10e58c4",
   "metadata": {},
   "outputs": [],
   "source": []
  }
 ],
 "metadata": {
  "kernelspec": {
   "display_name": "Python 3 (ipykernel)",
   "language": "python",
   "name": "python3"
  },
  "language_info": {
   "codemirror_mode": {
    "name": "ipython",
    "version": 3
   },
   "file_extension": ".py",
   "mimetype": "text/x-python",
   "name": "python",
   "nbconvert_exporter": "python",
   "pygments_lexer": "ipython3",
   "version": "3.10.12"
  }
 },
 "nbformat": 4,
 "nbformat_minor": 5
}
