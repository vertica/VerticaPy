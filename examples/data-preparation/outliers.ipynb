{
 "cells": [
  {
   "cell_type": "markdown",
   "metadata": {},
   "source": [
    "# Outliers\n",
    "\n",
    "## Initialization"
   ]
  },
  {
   "cell_type": "code",
   "execution_count": 1,
   "metadata": {},
   "outputs": [],
   "source": [
    "# Importing verticapy\n",
    "from verticapy import *\n",
    "# Creating a connection\n",
    "new_auto_connection({\"host\": \"10.211.55.14\", \n",
    "                     \"port\": \"5433\", \n",
    "                     \"database\": \"testdb\", \n",
    "                     \"password\": \"XxX\", \n",
    "                     \"user\": \"dbadmin\"},\n",
    "                    name = \"VerticaDSN\")\n",
    "# Set the primary auto-connection\n",
    "change_auto_connection(\"VerticaDSN\")"
   ]
  },
  {
   "cell_type": "code",
   "execution_count": 2,
   "metadata": {},
   "outputs": [
    {
     "data": {
      "text/plain": [
       "'0.6.1'"
      ]
     },
     "execution_count": 2,
     "metadata": {},
     "output_type": "execute_result"
    }
   ],
   "source": [
    "verticapy.__version__"
   ]
  },
  {
   "cell_type": "code",
   "execution_count": 3,
   "metadata": {},
   "outputs": [],
   "source": [
    "%load_ext verticapy.sql"
   ]
  },
  {
   "cell_type": "code",
   "execution_count": 4,
   "metadata": {},
   "outputs": [
    {
     "name": "stdout",
     "output_type": "stream",
     "text": [
      "DROP\n",
      "CREATE\n"
     ]
    },
    {
     "data": {
      "text/html": [
       "<div><b>Execution: </b> 0.019s</div>"
      ],
      "text/plain": [
       "<IPython.core.display.HTML object>"
      ]
     },
     "metadata": {},
     "output_type": "display_data"
    }
   ],
   "source": [
    "%%sql\n",
    "DROP SCHEMA IF EXISTS outliers_exercise CASCADE;\n",
    "CREATE SCHEMA outliers_exercise;"
   ]
  },
  {
   "cell_type": "markdown",
   "metadata": {},
   "source": [
    "## Dataset Creation"
   ]
  },
  {
   "cell_type": "code",
   "execution_count": 5,
   "metadata": {},
   "outputs": [],
   "source": [
    "from verticapy.datasets import gen_dataset\n",
    "from datetime import datetime\n",
    "\n",
    "# Generating different transactions\n",
    "\n",
    "# Regular Transactions are between 0 and 100$. They are mostly during the Business\n",
    "# hours but can happen outsides\n",
    "regular_transaction_business_hours = gen_dataset({\"hour\": {\"type\": float, \"range\": [8.0, 20.0]},\n",
    "                                                  \"amount\": {\"type\": float, \"range\": [0.0, 100.0]},\n",
    "                                                  \"category\": {\"type\": str, \"values\": [\"Regular\"]}},\n",
    "                                                  nrows=300,)\n",
    "regular_transaction = gen_dataset({\"hour\": {\"type\": float, \"range\": [0.0, 24.0]},\n",
    "                                   \"amount\": {\"type\": float, \"range\": [0.0, 100.0]},\n",
    "                                   \"category\": {\"type\": str, \"values\": [\"Regular\"]}},\n",
    "                                   nrows=100,)\n",
    "# Some high transactions can occur sometimes. However they can only happen during the\n",
    "# Business hours and they are between 3000 and 20000$.\n",
    "high_transaction = gen_dataset({\"hour\": {\"type\": float, \"range\": [8.0, 20.0]},\n",
    "                                \"amount\": {\"type\": float, \"range\": [3000.0, 20000.0]},\n",
    "                                \"category\": {\"type\": str, \"values\": [\"High\"]},},\n",
    "                               nrows=15,)\n",
    "# Fraudulent Transactions are happening during night and are between 300 and 1000$.\n",
    "fraudulent_transaction =  gen_dataset({\"hour\": {\"type\": float, \"range\": [2.0, 5.0]},\n",
    "                                       \"amount\": {\"type\": float, \"range\": [300.0, 1000.0]},\n",
    "                                       \"category\": {\"type\": str, \"values\": [\"Fraud\"]},},\n",
    "                                       nrows=20)\n",
    "# Our dataset will combine all the generated ones\n",
    "bank_transaction = regular_transaction.append(regular_transaction_business_hours).append(\n",
    "                                              high_transaction).append(\n",
    "                                              fraudulent_transaction).to_db(\"outliers_exercise.transactions\",\n",
    "                                                                            relation_type=\"table\",\n",
    "                                                                            inplace=True)"
   ]
  },
  {
   "cell_type": "markdown",
   "metadata": {},
   "source": [
    "## Data Exploration"
   ]
  },
  {
   "cell_type": "code",
   "execution_count": 6,
   "metadata": {},
   "outputs": [
    {
     "data": {
      "text/plain": [
       "<AxesSubplot:xlabel='\"hour\"', ylabel='\"amount\"'>"
      ]
     },
     "execution_count": 6,
     "metadata": {},
     "output_type": "execute_result"
    },
    {
     "data": {
      "image/png": "[encoded data removed]",
      "text/plain": [
       "<Figure size 576x432 with 1 Axes>"
      ]
     },
     "metadata": {},
     "output_type": "display_data"
    }
   ],
   "source": [
    "bank_transaction.scatter([\"hour\", \"amount\"], catcol=\"category\",)"
   ]
  },
  {
   "cell_type": "code",
   "execution_count": 7,
   "metadata": {},
   "outputs": [
    {
     "data": {
      "text/plain": [
       "<AxesSubplot:xlabel='\"hour\"', ylabel='\"amount\"'>"
      ]
     },
     "execution_count": 7,
     "metadata": {},
     "output_type": "execute_result"
    },
    {
     "data": {
      "image/png": "[encoded data removed]",
      "text/plain": [
       "<Figure size 576x432 with 1 Axes>"
      ]
     },
     "metadata": {},
     "output_type": "display_data"
    }
   ],
   "source": [
    "bank_transaction.search(\"amount < 2000\").scatter([\"hour\", \"amount\"], catcol=\"category\",)"
   ]
  },
  {
   "cell_type": "markdown",
   "metadata": {},
   "source": [
    "## Global Outliers Detection"
   ]
  },
  {
   "cell_type": "code",
   "execution_count": 8,
   "metadata": {},
   "outputs": [
    {
     "data": {
      "text/plain": [
       "<AxesSubplot:xlabel='\"hour\"', ylabel='\"amount\"'>"
      ]
     },
     "execution_count": 8,
     "metadata": {},
     "output_type": "execute_result"
    },
    {
     "data": {
      "image/png": "[encoded data removed]",
      "text/plain": [
       "<Figure size 576x432 with 1 Axes>"
      ]
     },
     "metadata": {},
     "output_type": "display_data"
    }
   ],
   "source": [
    "# ZSCORE can catch very high transactions but not fraudulent transactions\n",
    "bank_transaction.outliers(columns = [\"hour\", \"amount\"],\n",
    "                          name = \"global_outliers_zscore\",\n",
    "                          threshold = 3,\n",
    "                          robust = False)\n",
    "bank_transaction.scatter([\"hour\", \"amount\"], catcol=\"global_outliers_zscore\",)"
   ]
  },
  {
   "cell_type": "code",
   "execution_count": 9,
   "metadata": {},
   "outputs": [
    {
     "data": {
      "text/plain": [
       "<AxesSubplot:xlabel='\"hour\"', ylabel='\"amount\"'>"
      ]
     },
     "execution_count": 9,
     "metadata": {},
     "output_type": "execute_result"
    },
    {
     "data": {
      "image/png": "[encoded data removed]",
      "text/plain": [
       "<Figure size 576x432 with 1 Axes>"
      ]
     },
     "metadata": {},
     "output_type": "display_data"
    }
   ],
   "source": [
    "# Robust ZSCORE can catch anomalies and high transactions\n",
    "bank_transaction.outliers(columns = [\"hour\", \"amount\"],\n",
    "                          name = \"global_outliers_robust\",\n",
    "                          threshold = 3,\n",
    "                          robust = True)\n",
    "bank_transaction.scatter([\"hour\", \"amount\"], catcol=\"global_outliers_robust\",)"
   ]
  },
  {
   "cell_type": "markdown",
   "metadata": {},
   "source": [
    "## Data Preparation & Modeling"
   ]
  },
  {
   "cell_type": "code",
   "execution_count": 10,
   "metadata": {},
   "outputs": [
    {
     "data": {
      "text/plain": [
       "\n",
       "\n",
       "=======\n",
       "details\n",
       "=======\n",
       "column_name| median |  mad   \n",
       "-----------+--------+--------\n",
       "   hour    |13.59527| 5.11881\n",
       "  amount   |49.65349|41.51213"
      ]
     },
     "execution_count": 10,
     "metadata": {},
     "output_type": "execute_result"
    }
   ],
   "source": [
    "from verticapy.learn.preprocessing import Normalizer\n",
    "\n",
    "model_robust = Normalizer(\"outliers_exercise.robust_normalizer\", method=\"robust_zscore\")\n",
    "model_robust.fit(bank_transaction, [\"hour\", \"amount\"])"
   ]
  },
  {
   "cell_type": "markdown",
   "metadata": {},
   "source": [
    "### Pipeline Model"
   ]
  },
  {
   "cell_type": "code",
   "execution_count": 11,
   "metadata": {},
   "outputs": [
    {
     "data": {
      "text/plain": [
       "<AxesSubplot:xlabel='\"hour\"', ylabel='\"amount\"'>"
      ]
     },
     "execution_count": 11,
     "metadata": {},
     "output_type": "execute_result"
    },
    {
     "data": {
      "image/png": "[encoded data removed]",
      "text/plain": [
       "<Figure size 576x432 with 1 Axes>"
      ]
     },
     "metadata": {},
     "output_type": "display_data"
    }
   ],
   "source": [
    "# We need to normalize the data in order to use ML algorithms which\n",
    "# are sensible to the p-distance\n",
    "bank_transaction_anomaly = bank_transaction.search(\"global_outliers_robust = 1\")\n",
    "bank_transaction_anomaly.scatter([\"hour\", \"amount\"],)"
   ]
  },
  {
   "cell_type": "code",
   "execution_count": 12,
   "metadata": {},
   "outputs": [
    {
     "data": {
      "text/plain": [
       "<AxesSubplot:xlabel='\"hour\"', ylabel='\"amount\"'>"
      ]
     },
     "execution_count": 12,
     "metadata": {},
     "output_type": "execute_result"
    },
    {
     "data": {
      "image/png": "[encoded data removed]",
      "text/plain": [
       "<Figure size 576x432 with 1 Axes>"
      ]
     },
     "metadata": {},
     "output_type": "display_data"
    }
   ],
   "source": [
    "from verticapy.learn.pipeline import Pipeline\n",
    "from verticapy.learn.preprocessing import Normalizer\n",
    "from verticapy.learn.cluster import KMeans\n",
    "\n",
    "model = Pipeline([(\"normalizer_bank\", Normalizer(\"outliers_exercise.fraud_normalizer\")),\n",
    "                  (\"kmeans_bank\"    , KMeans(\"outliers_exercise.fraud_kmeans\", \n",
    "                                             n_cluster=2, init=[(-1.0, -1.0), (0.0, 0.0),]))])\n",
    "model.fit(bank_transaction_anomaly,\n",
    "          [\"hour\", \"amount\"])\n",
    "model[-1].plot()"
   ]
  },
  {
   "cell_type": "markdown",
   "metadata": {},
   "source": [
    "### Model Deployment\n",
    "\n",
    "#### in-DB = Near Real-Time"
   ]
  },
  {
   "cell_type": "code",
   "execution_count": 13,
   "metadata": {},
   "outputs": [],
   "source": [
    "# Data are already in Vertica so the model is already deployed\n",
    "bank_transaction = model.predict(bank_transaction, name=\"cluster\")\n",
    "bank_transaction[\"is_fraud\"] = \"global_outliers_robust AND cluster=0\""
   ]
  },
  {
   "cell_type": "code",
   "execution_count": 14,
   "metadata": {},
   "outputs": [
    {
     "data": {
      "text/plain": [
       "20"
      ]
     },
     "execution_count": 14,
     "metadata": {},
     "output_type": "execute_result"
    }
   ],
   "source": [
    "bank_transaction.search(\"is_fraud AND category = 'Fraud'\").shape()[0]"
   ]
  },
  {
   "cell_type": "code",
   "execution_count": 15,
   "metadata": {},
   "outputs": [
    {
     "data": {
      "text/plain": [
       "20"
      ]
     },
     "execution_count": 15,
     "metadata": {},
     "output_type": "execute_result"
    }
   ],
   "source": [
    "bank_transaction.search(\"category = 'Fraud'\").shape()[0]"
   ]
  },
  {
   "cell_type": "code",
   "execution_count": 16,
   "metadata": {
    "scrolled": false
   },
   "outputs": [
    {
     "name": "stdout",
     "output_type": "stream",
     "text": [
      "(\n",
      "   SELECT\n",
      "     \"hour\",\n",
      "     \"amount\",\n",
      "     \"category\",\n",
      "     \"global_outliers_zscore\",\n",
      "     \"global_outliers_robust\",\n",
      "     \"cluster\",\n",
      "     global_outliers_robust AND cluster=0 AS \"is_fraud\" \n",
      "   FROM\n",
      " (\n",
      "   SELECT\n",
      "     \"hour\",\n",
      "     \"amount\",\n",
      "     \"category\",\n",
      "     \"global_outliers_zscore\",\n",
      "     \"global_outliers_robust\",\n",
      "     \"cluster\" \n",
      "   FROM\n",
      " (\n",
      "   SELECT\n",
      "     \"hour\",\n",
      "     \"amount\",\n",
      "     \"category\",\n",
      "     \"global_outliers_zscore\",\n",
      "     \"global_outliers_robust\",\n",
      "     \"cluster\" \n",
      "   FROM\n",
      " (\n",
      "   SELECT\n",
      "     \"hour\",\n",
      "     \"amount\",\n",
      "     \"category\",\n",
      "     \"global_outliers_zscore\",\n",
      "     \"global_outliers_robust\",\n",
      "     APPLY_KMEANS(\"hour\", \"amount\" USING PARAMETERS model_name = 'outliers_exercise.fraud_kmeans', match_by_pos = 'true') AS \"cluster\" \n",
      "   FROM\n",
      " (\n",
      "   SELECT\n",
      "     \"hour\",\n",
      "     \"amount\",\n",
      "     \"category\",\n",
      "     \"global_outliers_zscore\",\n",
      "     \"global_outliers_robust\" \n",
      "   FROM\n",
      " (\n",
      "   SELECT\n",
      "     APPLY_NORMALIZE(\"hour\", \"amount\", \"category\", \"global_outliers_zscore\", \"global_outliers_robust\" USING PARAMETERS model_name = 'outliers_exercise.fraud_normalizer', match_by_pos = 'true', key_columns = '\"category\", \"global_outliers_zscore\", \"global_outliers_robust\"', exclude_columns = '\"category\", \"global_outliers_zscore\", \"global_outliers_robust\"') \n",
      "   FROM\n",
      " (\n",
      "   SELECT\n",
      "     \"hour\",\n",
      "     \"amount\",\n",
      "     \"category\",\n",
      "     (CASE WHEN ABS(\"hour\" - 13.0321725870857) / NULLIFZERO(4.95966867153176) > 3 OR ABS(\"amount\" - 486.332476810905) / NULLIFZERO(2316.26693719438) > 3 THEN 1 ELSE 0 END) AS \"global_outliers_zscore\",\n",
      "     (CASE WHEN ABS(\"hour\" - 13.5952674839646) / NULLIFZERO(3.45259123295549 * 1.4826) > 3 OR ABS(\"amount\" - 49.653486837633) / NULLIFZERO(27.9995476361364 * 1.4826) > 3 THEN 1 ELSE 0 END) AS \"global_outliers_robust\" \n",
      "   FROM\n",
      " (\n",
      "   SELECT\n",
      "     \"hour\",\n",
      "     \"amount\",\n",
      "     \"category\" \n",
      "   FROM\n",
      " \"outliers_exercise\".\"transactions\") \n",
      "VERTICAPY_SUBTABLE) \n",
      "VERTICAPY_SUBTABLE) \n",
      "VERTICAPY_SUBTABLE) \n",
      "VERTICAPY_SUBTABLE) \n",
      "VERTICAPY_SUBTABLE) \n",
      "VERTICAPY_SUBTABLE) \n",
      "VERTICAPY_SUBTABLE) \n",
      "VERTICAPY_SUBTABLE\n"
     ]
    }
   ],
   "source": [
    "print(bank_transaction.current_relation())"
   ]
  },
  {
   "cell_type": "markdown",
   "metadata": {},
   "source": [
    "#### At the source of the Data Stream = Real-Time"
   ]
  },
  {
   "cell_type": "code",
   "execution_count": 17,
   "metadata": {},
   "outputs": [
    {
     "name": "stdout",
     "output_type": "stream",
     "text": [
      "def robust_model(X):\n",
      "\timport numpy as np\n",
      "\tmedian_values = np.array([13.5952674839646, 49.653486837633])\n",
      "\tmad_values = np.array([5.11881176197976, 41.5121293253358])\n",
      "\treturn (X - median_values) / mad_values\n",
      "\n"
     ]
    }
   ],
   "source": [
    "# We need to deploy the model outside Vertica\n",
    "\n",
    "# We export the Robust ZSCORE function\n",
    "robust_model = model_robust.to_python(name=\"robust_model\")\n",
    "print(model_robust.to_python(return_str=True, name=\"robust_model\"))"
   ]
  },
  {
   "cell_type": "code",
   "execution_count": 18,
   "metadata": {},
   "outputs": [
    {
     "name": "stdout",
     "output_type": "stream",
     "text": [
      "def kmeans_model(X):\n",
      "\tdef normalizer_bank(X):\n",
      "\t\timport numpy as np\n",
      "\t\tavg_values = np.array([8.32508097871074, 5502.59606521976])\n",
      "\t\tstd_values = np.array([5.83078724833864, 6348.54686397911])\n",
      "\t\treturn (X - avg_values) / std_values\n",
      "\t\n",
      "\tdef kmeans_bank(X):\n",
      "\t\timport numpy as np\n",
      "\t\tcentroids = np.array([[-0.783949292672451, -0.759964593625353], [1.04526572356327, 1.0132861248338]])\n",
      "\t\tresult = []\n",
      "\t\tfor centroid in centroids:\n",
      "\t\t\tresult += [np.sum((np.array(centroid) - X) ** 2, axis=1) ** (1 / 2)]\n",
      "\t\tresult = np.column_stack(result)\n",
      "\t\tresult = np.argmin(result, axis=1)\n",
      "\t\treturn result\n",
      "\t\n",
      "\treturn kmeans_bank(normalizer_bank(X))\n"
     ]
    }
   ],
   "source": [
    "# We export the Pipeline Function\n",
    "kmeans_model = model.to_python(name=\"kmeans_model\")\n",
    "print(model.to_python(return_str=True, name=\"kmeans_model\"))"
   ]
  },
  {
   "cell_type": "code",
   "execution_count": 19,
   "metadata": {},
   "outputs": [],
   "source": [
    "# We merge our 2 functions in a global function\n",
    "import numpy as np\n",
    "def anomaly_detection(X):\n",
    "    def apply_row(X):\n",
    "        x = robust_model([X])\n",
    "        if x[0][0] < 3 and x[0][1] < 3:\n",
    "            return False\n",
    "        else:\n",
    "            x = kmeans_model([X])\n",
    "            return x[0] == 0\n",
    "    return np.apply_along_axis(apply_row, 1, X)"
   ]
  },
  {
   "cell_type": "code",
   "execution_count": 20,
   "metadata": {},
   "outputs": [
    {
     "data": {
      "text/plain": [
       "array([ True])"
      ]
     },
     "execution_count": 20,
     "metadata": {},
     "output_type": "execute_result"
    }
   ],
   "source": [
    "anomaly_detection([[3, 200]])"
   ]
  },
  {
   "cell_type": "code",
   "execution_count": 21,
   "metadata": {},
   "outputs": [
    {
     "data": {
      "text/plain": [
       "array([False])"
      ]
     },
     "execution_count": 21,
     "metadata": {},
     "output_type": "execute_result"
    }
   ],
   "source": [
    "anomaly_detection([[14, 50]])"
   ]
  },
  {
   "cell_type": "code",
   "execution_count": 22,
   "metadata": {},
   "outputs": [
    {
     "name": "stdout",
     "output_type": "stream",
     "text": [
      "Anomalous Transaction: [3.195646094565477, 314.0541205420539]\n",
      "Anomalous Transaction: [3.600558884047926, 456.33396570785123]\n",
      "Anomalous Transaction: [2.5644292876661883, 340.28586294984194]\n",
      "Anomalous Transaction: [4.95784420555654, 608.614196629341]\n",
      "Anomalous Transaction: [4.415732003851933, 510.9440908790514]\n",
      "Anomalous Transaction: [4.741804921035648, 662.4786165679719]\n",
      "Anomalous Transaction: [4.304146580672732, 532.6912795318493]\n",
      "Anomalous Transaction: [4.647016178675492, 468.1484981288836]\n",
      "Anomalous Transaction: [2.672963966085935, 318.37659625575145]\n",
      "Anomalous Transaction: [2.1613863019431716, 907.6154042676931]\n",
      "Anomalous Transaction: [3.8805105760495313, 419.8464602984234]\n",
      "Anomalous Transaction: [3.8663545060990514, 908.2803194442765]\n",
      "Anomalous Transaction: [4.879520705116624, 987.801796750608]\n",
      "Anomalous Transaction: [3.2553288619220053, 660.1976633854924]\n",
      "Anomalous Transaction: [3.758496296038748, 778.7787750453812]\n",
      "Anomalous Transaction: [4.6926778819379305, 685.9868229210183]\n",
      "Anomalous Transaction: [4.294586437917995, 567.1822438986087]\n",
      "Anomalous Transaction: [3.160736112532058, 393.71066403643397]\n",
      "Anomalous Transaction: [3.6376551236080195, 593.1808150242578]\n",
      "Anomalous Transaction: [3.59619976870764, 786.9743274549328]\n",
      "Anomalous Transaction: [2.3371184941747467, 578.4437456004321]\n",
      "Anomalous Transaction: [3.7206268041112662, 849.4012962104822]\n",
      "Anomalous Transaction: [3.5923766593504833, 604.8183356446061]\n",
      "Anomalous Transaction: [3.3980970392840075, 437.4592326731675]\n",
      "Anomalous Transaction: [2.054235394460633, 778.9757508283458]\n",
      "Anomalous Transaction: [3.7877146214574084, 787.6628090554998]\n",
      "Anomalous Transaction: [2.834653217133475, 822.3833455902368]\n",
      "Anomalous Transaction: [4.057848755626259, 850.8755654464129]\n",
      "Anomalous Transaction: [2.187815118397368, 457.2224549503163]\n",
      "Anomalous Transaction: [2.106553248029715, 739.6759264796395]\n",
      "Anomalous Transaction: [4.2351114344651535, 556.6627747996424]\n",
      "Anomalous Transaction: [4.487659433828192, 322.2553712064884]\n",
      "Anomalous Transaction: [2.3318261615971343, 445.0624408138435]\n",
      "Anomalous Transaction: [3.225563451781877, 857.878508466135]\n",
      "Anomalous Transaction: [2.2727214776119453, 410.49841836904113]\n",
      "Anomalous Transaction: [4.385582991096532, 772.2292581866857]\n",
      "Anomalous Transaction: [2.8832412228623987, 659.3654179127511]\n",
      "Anomalous Transaction: [2.346137294580486, 342.43984508994004]\n",
      "Anomalous Transaction: [4.167657056356557, 732.1314131130193]\n",
      "Anomalous Transaction: [4.733489190699258, 857.1087658504647]\n",
      "Anomalous Transaction: [3.1621583886500977, 622.6701429419988]\n",
      "Anomalous Transaction: [2.2738611873836527, 559.2532691912481]\n",
      "Anomalous Transaction: [4.288196074055833, 387.42539092744903]\n",
      "Anomalous Transaction: [2.2790603493309134, 711.8587705594167]\n",
      "Anomalous Transaction: [4.396675856700331, 902.900200803743]\n",
      "Anomalous Transaction: [2.0945363136097725, 449.358039356497]\n",
      "Anomalous Transaction: [4.317463144954903, 398.834356752546]\n",
      "Anomalous Transaction: [4.495437747453695, 746.9656961076932]\n",
      "Anomalous Transaction: [3.5698886988412832, 302.2525384272605]\n",
      "Anomalous Transaction: [3.880196313344568, 477.89991969136736]\n",
      "Anomalous Transaction: [4.013992248905429, 527.2663009181185]\n",
      "Anomalous Transaction: [4.837456056762534, 856.8195058119433]\n",
      "Anomalous Transaction: [4.046411593790474, 739.1087720145215]\n",
      "Anomalous Transaction: [4.810445966046233, 379.9185584870328]\n",
      "Anomalous Transaction: [3.6169616157671483, 533.8281171055023]\n",
      "Anomalous Transaction: [2.930814397333603, 520.4384423337478]\n",
      "Anomalous Transaction: [2.8900458402982165, 811.6761206855572]\n",
      "Anomalous Transaction: [3.370431862051035, 423.1907872585645]\n",
      "Anomalous Transaction: [3.7600681741549793, 732.601848593534]\n",
      "Anomalous Transaction: [4.687195007809588, 843.7663560794944]\n",
      "Anomalous Transaction: [4.240252715538036, 765.3534949750674]\n",
      "Anomalous Transaction: [4.009935159519648, 465.7394558129449]\n",
      "Anomalous Transaction: [2.9629379355875214, 543.8509586853363]\n",
      "Anomalous Transaction: [4.429810339815781, 958.2875110447127]\n",
      "Anomalous Transaction: [3.710384840807921, 607.9482639879477]\n",
      "Anomalous Transaction: [4.744482088746041, 880.7732840651762]\n",
      "Anomalous Transaction: [4.814630219925963, 638.5044682599475]\n",
      "Anomalous Transaction: [4.753416857965129, 487.5494548230169]\n",
      "Anomalous Transaction: [2.050990198318253, 848.1829579330142]\n",
      "Anomalous Transaction: [2.7447102663460865, 463.3735399236832]\n",
      "Anomalous Transaction: [2.847609907081037, 468.18770233110604]\n",
      "Anomalous Transaction: [2.7074700558908535, 317.96019389000975]\n",
      "Anomalous Transaction: [2.198330847470805, 859.1112738692345]\n",
      "Anomalous Transaction: [3.7508785954282957, 770.8089035993262]\n",
      "Anomalous Transaction: [3.9516669293312963, 672.0307510093967]\n",
      "Anomalous Transaction: [4.336121797163628, 931.7684389256999]\n",
      "Anomalous Transaction: [4.063995759126219, 619.8541142873362]\n",
      "Anomalous Transaction: [4.99028303819537, 428.2349880467664]\n",
      "Anomalous Transaction: [2.4395322074081065, 805.3147775303482]\n",
      "Anomalous Transaction: [3.8898087287211593, 407.9636003116651]\n",
      "Anomalous Transaction: [4.15324179631336, 764.1350296913643]\n",
      "Anomalous Transaction: [3.243632358546625, 574.5280376245605]\n",
      "Anomalous Transaction: [3.6162275527939025, 529.0116214521188]\n",
      "Anomalous Transaction: [2.010351709072076, 884.6031135279218]\n",
      "Anomalous Transaction: [4.2389854762456025, 330.9244720828602]\n",
      "Anomalous Transaction: [2.4605270112645714, 876.3872098151919]\n",
      "Anomalous Transaction: [2.3483248969713637, 673.6288416743357]\n",
      "Anomalous Transaction: [3.8838526990079076, 751.3695060087314]\n",
      "Anomalous Transaction: [4.90588896134547, 731.4177796347908]\n",
      "Anomalous Transaction: [3.369219933354268, 891.3934426980389]\n",
      "Anomalous Transaction: [3.7989026897591063, 927.5547603354252]\n",
      "Anomalous Transaction: [4.8541025052746996, 903.4392057413946]\n",
      "Anomalous Transaction: [4.989407951750835, 338.031285229384]\n",
      "Anomalous Transaction: [4.757368005144183, 346.1173499630977]\n",
      "Anomalous Transaction: [3.770925223169134, 480.1434949625179]\n",
      "Anomalous Transaction: [3.116404810693196, 757.7752144731212]\n",
      "Anomalous Transaction: [2.46489154408356, 504.5858707583269]\n",
      "Anomalous Transaction: [2.269581766353566, 818.6662140701737]\n",
      "Anomalous Transaction: [3.8165401161678885, 313.4666017355837]\n",
      "Anomalous Transaction: [3.802691302781101, 702.5822044736626]\n",
      "Anomalous Transaction: [3.0541805463429346, 676.2900272234496]\n",
      "Anomalous Transaction: [4.406955451544, 814.7798585157301]\n",
      "Anomalous Transaction: [3.71357357396242, 685.202418825417]\n",
      "Anomalous Transaction: [2.924381335200878, 679.6231787561492]\n",
      "Anomalous Transaction: [3.269714031445238, 559.7351988016968]\n",
      "Anomalous Transaction: [2.188787640483973, 354.9358043037812]\n",
      "Anomalous Transaction: [3.5582293694303684, 550.256020972137]\n",
      "Anomalous Transaction: [3.9422525710010534, 595.2975807931413]\n",
      "Anomalous Transaction: [2.793018218865843, 967.9943014240794]\n",
      "Anomalous Transaction: [3.2348396738789127, 912.0990743932912]\n",
      "Anomalous Transaction: [3.78580411881404, 722.5337463717487]\n",
      "Anomalous Transaction: [2.3741812468967933, 799.9243912892545]\n",
      "Anomalous Transaction: [3.278207406389502, 502.76791009262956]\n",
      "Anomalous Transaction: [2.2498596833912403, 504.87851370390126]\n",
      "Anomalous Transaction: [4.386180759738326, 739.5388918883843]\n",
      "Anomalous Transaction: [2.4729807445434044, 733.7964706792084]\n",
      "Anomalous Transaction: [4.231193948469708, 602.345770234426]\n",
      "Anomalous Transaction: [4.150122972802882, 509.0335494817607]\n",
      "Anomalous Transaction: [3.326162182605443, 522.9555674473531]\n",
      "Anomalous Transaction: [2.988141721693009, 536.8379650513714]\n",
      "Anomalous Transaction: [2.771162383071358, 764.5181379235569]\n",
      "Anomalous Transaction: [3.2020808211857377, 378.1945104012814]\n",
      "Anomalous Transaction: [3.666230356873532, 452.1513562416442]\n",
      "Anomalous Transaction: [2.7078525647183413, 878.9343855565218]\n",
      "Anomalous Transaction: [3.04825361574744, 873.9497948352912]\n",
      "Anomalous Transaction: [3.7110477286294805, 626.0588854874948]\n",
      "Anomalous Transaction: [3.767439968254816, 974.4600047884713]\n",
      "Anomalous Transaction: [3.516955895359532, 517.0951385606459]\n",
      "Anomalous Transaction: [4.921417797672195, 440.5669496470773]\n",
      "Anomalous Transaction: [4.27403756572769, 939.6343413909821]\n",
      "Anomalous Transaction: [3.5929889414491187, 614.25286706368]\n",
      "Anomalous Transaction: [3.9198346323968525, 860.7338006614119]\n",
      "Anomalous Transaction: [2.3545711340555773, 952.1109971723846]\n",
      "Anomalous Transaction: [4.380823060516634, 820.2757031703572]\n",
      "Anomalous Transaction: [4.992312786397216, 807.2429110157166]\n",
      "Anomalous Transaction: [3.821601465082316, 309.3534771495253]\n",
      "Anomalous Transaction: [4.58069375898567, 958.7536273700603]\n",
      "Anomalous Transaction: [2.304317997515086, 808.2252777236129]\n",
      "Anomalous Transaction: [4.2296289291898415, 581.9166047663255]\n",
      "Anomalous Transaction: [4.927151430549534, 896.2813795281974]\n",
      "Anomalous Transaction: [3.9154841291692932, 550.5598789276712]\n",
      "Anomalous Transaction: [2.094304547688944, 558.0388556225275]\n",
      "Anomalous Transaction: [4.290782086175755, 581.4169690449]\n",
      "Anomalous Transaction: [2.0757171314030396, 547.8162892870928]\n",
      "Anomalous Transaction: [2.927949643793899, 790.8841909626195]\n",
      "Anomalous Transaction: [4.60871804774386, 334.04751985061097]\n",
      "Anomalous Transaction: [3.15651240113378, 394.8818913552618]\n",
      "Anomalous Transaction: [4.206068498280192, 807.9693757168812]\n",
      "Anomalous Transaction: [2.900962238009826, 317.6299758090449]\n",
      "Anomalous Transaction: [3.1718286888316465, 690.3482906406371]\n",
      "Anomalous Transaction: [3.1890705839595506, 452.9436535003522]\n",
      "Anomalous Transaction: [4.05811246703843, 848.5388934769795]\n",
      "Anomalous Transaction: [4.352397302894916, 342.9426718066352]\n",
      "Anomalous Transaction: [4.986645534447353, 556.6920242130634]\n",
      "Anomalous Transaction: [4.966064330383556, 521.2849511383243]\n",
      "Anomalous Transaction: [2.0604419655354267, 529.2488132166702]\n",
      "Anomalous Transaction: [3.1348582762308936, 788.5624950648623]\n",
      "Anomalous Transaction: [4.739516945024219, 453.52964307480727]\n",
      "Anomalous Transaction: [2.5816731955293775, 510.65799767674355]\n",
      "Anomalous Transaction: [3.4966893306512814, 807.0652087744197]\n",
      "Anomalous Transaction: [2.279471160743854, 955.3951837183612]\n",
      "Anomalous Transaction: [3.8081625966774575, 393.72683206404724]\n",
      "Anomalous Transaction: [3.5928208007944447, 442.52272592732515]\n",
      "Anomalous Transaction: [2.169699953535931, 776.9905215636956]\n",
      "Anomalous Transaction: [3.9934260304254288, 409.86451948120623]\n",
      "Anomalous Transaction: [3.179435837851878, 329.7681978891482]\n",
      "Anomalous Transaction: [2.749883780353853, 741.6998953344107]\n"
     ]
    },
    {
     "name": "stdout",
     "output_type": "stream",
     "text": [
      "Anomalous Transaction: [2.9235819875310054, 439.29428349261536]\n",
      "Anomalous Transaction: [2.0318709704910543, 566.6776402393534]\n",
      "Anomalous Transaction: [4.110536551228099, 796.8455225142118]\n",
      "Anomalous Transaction: [4.469732049943151, 953.1851117533458]\n",
      "Anomalous Transaction: [2.0002351421254554, 329.6747340688548]\n",
      "Anomalous Transaction: [3.393467283096, 619.918318222192]\n",
      "Anomalous Transaction: [4.67384129554797, 988.4331946992977]\n",
      "Anomalous Transaction: [4.126429243411758, 540.8826109354421]\n",
      "Anomalous Transaction: [3.571082283848251, 521.9926575198061]\n",
      "Anomalous Transaction: [4.412114377283622, 314.56762904163025]\n",
      "Anomalous Transaction: [3.0498610324995195, 927.1242577044382]\n",
      "Anomalous Transaction: [3.575530855380382, 934.8740438259327]\n",
      "Anomalous Transaction: [2.9556466984634877, 514.3665431471956]\n",
      "Anomalous Transaction: [2.5731196158407883, 434.8863187481071]\n",
      "Anomalous Transaction: [3.2969951935675503, 822.9477391646964]\n",
      "Anomalous Transaction: [2.28886591496544, 604.1414901314263]\n",
      "Anomalous Transaction: [3.80266337629235, 548.1014003219005]\n",
      "Anomalous Transaction: [4.489788460262734, 408.6046532166017]\n",
      "Anomalous Transaction: [4.310600624600799, 517.5134702862076]\n",
      "Anomalous Transaction: [2.321632085621061, 408.5292700790068]\n",
      "Anomalous Transaction: [3.437498264183405, 422.4468379981542]\n",
      "Anomalous Transaction: [3.944812038124338, 607.6807293272312]\n",
      "Anomalous Transaction: [3.2576532799521525, 744.1252306968387]\n",
      "Anomalous Transaction: [3.4050856474485403, 303.5420437412866]\n",
      "Anomalous Transaction: [2.4654387996514053, 730.6839287697937]\n",
      "Anomalous Transaction: [3.0178991262091106, 381.3205128768405]\n",
      "Anomalous Transaction: [3.6917575241876905, 639.3735447332105]\n",
      "Anomalous Transaction: [4.373980084669072, 722.4685529785306]\n",
      "Anomalous Transaction: [3.5649509231052363, 801.3264790055515]\n",
      "Anomalous Transaction: [2.877080114275219, 678.2691424023349]\n",
      "Anomalous Transaction: [3.4723154051998355, 775.8133584262473]\n",
      "Anomalous Transaction: [4.313018167034893, 923.8825772950931]\n",
      "Anomalous Transaction: [2.725521921639645, 925.4109370291928]\n",
      "Anomalous Transaction: [2.6372350646091363, 487.9330617145895]\n",
      "Anomalous Transaction: [4.056591653840855, 557.3231490819569]\n",
      "Anomalous Transaction: [2.1857089358834854, 731.7603508067166]\n",
      "Anomalous Transaction: [2.532015857340749, 900.673030470253]\n",
      "Anomalous Transaction: [4.697103644712779, 722.3840630617327]\n",
      "Anomalous Transaction: [4.207201395776434, 798.8217440986923]\n",
      "Anomalous Transaction: [4.803229873297672, 373.89045633707406]\n",
      "Anomalous Transaction: [4.010056932976153, 490.0162139483149]\n",
      "Anomalous Transaction: [2.940891951233701, 845.2820519714137]\n",
      "Anomalous Transaction: [4.7187272715039885, 515.8072793847203]\n",
      "Anomalous Transaction: [3.338003330958066, 397.7249661448895]\n",
      "Anomalous Transaction: [4.4056979739683655, 605.7486182320233]\n",
      "Anomalous Transaction: [2.3678975523706525, 409.3561634271121]\n",
      "Anomalous Transaction: [4.148241432501679, 970.2548210957108]\n",
      "Anomalous Transaction: [2.5185445528558255, 379.77227459913354]\n",
      "Anomalous Transaction: [4.761419583426676, 498.83448773458724]\n",
      "Anomalous Transaction: [3.3664549410914737, 403.590323041268]\n",
      "Anomalous Transaction: [4.48775530860463, 542.0469985165921]\n",
      "Anomalous Transaction: [4.23477858975736, 465.1988988047176]\n",
      "Anomalous Transaction: [4.768716899071748, 789.4127666285417]\n",
      "Anomalous Transaction: [3.9888602915134843, 954.4493851617113]\n",
      "Anomalous Transaction: [3.6225179051197296, 881.926807661992]\n",
      "Anomalous Transaction: [2.7759435667774195, 696.3065057764402]\n",
      "Anomalous Transaction: [2.114134220552935, 572.9395834607221]\n",
      "Anomalous Transaction: [2.8898012033415177, 593.8724950788608]\n",
      "Anomalous Transaction: [2.999053891185166, 694.3502604639702]\n",
      "Anomalous Transaction: [2.0750086580818463, 433.7926696970485]\n",
      "Anomalous Transaction: [2.954886060905036, 855.7060439958146]\n",
      "Anomalous Transaction: [3.196699878326574, 524.314048650881]\n",
      "Anomalous Transaction: [2.6583275118564185, 454.51428500713905]\n",
      "Anomalous Transaction: [2.2180041066146927, 738.2941589899974]\n",
      "Anomalous Transaction: [4.8180016155601795, 712.8285381654955]\n",
      "Anomalous Transaction: [3.3445885880768715, 743.3130973302088]\n",
      "Anomalous Transaction: [3.9590042789087376, 659.1819791414358]\n",
      "Anomalous Transaction: [2.2217821929261987, 476.5790156335889]\n",
      "Anomalous Transaction: [4.026190258559354, 905.1436354389147]\n",
      "Anomalous Transaction: [3.5909750879767985, 863.0826141530601]\n",
      "Anomalous Transaction: [3.804751820742195, 446.14437912882374]\n",
      "Anomalous Transaction: [2.493043915152867, 329.5408383808592]\n",
      "Anomalous Transaction: [3.2607520618319947, 501.07469888023434]\n",
      "Anomalous Transaction: [3.1265554467264884, 349.9823468121211]\n",
      "Anomalous Transaction: [2.873363557692741, 773.8031768311325]\n",
      "Anomalous Transaction: [4.325707787454934, 535.528805823967]\n",
      "Anomalous Transaction: [3.6550651049981067, 952.5534719291709]\n",
      "Anomalous Transaction: [2.304369665023947, 890.643774858583]\n",
      "Anomalous Transaction: [4.629813437996403, 907.5748464896892]\n",
      "Anomalous Transaction: [3.847844611514695, 872.0940436764683]\n",
      "Anomalous Transaction: [4.902426549494149, 477.0433322248638]\n",
      "Anomalous Transaction: [2.9557978610488176, 584.2420416505068]\n",
      "Anomalous Transaction: [2.574691337737108, 743.3014243859757]\n",
      "Anomalous Transaction: [2.445291008917086, 464.94478222121154]\n",
      "Anomalous Transaction: [4.560092072164449, 876.2774422396482]\n",
      "Anomalous Transaction: [4.247373515334734, 734.5538813617882]\n",
      "Anomalous Transaction: [2.4036306153940643, 714.9484067906226]\n",
      "Anomalous Transaction: [3.190754714025786, 877.632405017963]\n",
      "Anomalous Transaction: [2.053751499100234, 485.7377645489239]\n",
      "Anomalous Transaction: [2.1373421756704567, 710.5492253488185]\n",
      "Anomalous Transaction: [2.2106509278992394, 664.2505301506542]\n",
      "Anomalous Transaction: [3.067159165951395, 527.0201773369977]\n",
      "Anomalous Transaction: [4.031172333639526, 953.3574763721134]\n",
      "Anomalous Transaction: [4.4467807653792, 553.4308442944206]\n",
      "Anomalous Transaction: [3.2094994925444835, 717.3307754777488]\n",
      "Anomalous Transaction: [3.5655320930100625, 824.1484031087367]\n",
      "Anomalous Transaction: [2.566552989808724, 903.4954009371601]\n",
      "Anomalous Transaction: [2.1578121052033894, 794.8266339818847]\n",
      "Anomalous Transaction: [2.883358121622647, 898.2845597415583]\n",
      "Anomalous Transaction: [3.550465142457277, 328.43181761396926]\n",
      "Anomalous Transaction: [3.5617050261928345, 386.01969232966775]\n",
      "Anomalous Transaction: [2.2972127312112844, 757.7210423178262]\n",
      "Anomalous Transaction: [3.537478751189936, 454.0101000204272]\n",
      "Anomalous Transaction: [2.229350735120767, 976.6905731983343]\n",
      "Anomalous Transaction: [3.0296515416471657, 544.9693194504641]\n",
      "Anomalous Transaction: [2.8266162943503996, 746.2440984287416]\n",
      "Anomalous Transaction: [4.059273959489246, 422.9318439046049]\n",
      "Anomalous Transaction: [3.5528632404398737, 421.0738309710895]\n",
      "Anomalous Transaction: [3.11804766865355, 840.0997749292605]\n",
      "Anomalous Transaction: [2.1221760038149173, 410.9949508973919]\n",
      "Anomalous Transaction: [2.9413100662290943, 882.5285389604509]\n",
      "Anomalous Transaction: [4.853859374634565, 669.589719441808]\n",
      "Anomalous Transaction: [3.430298493238025, 888.9722781337999]\n",
      "Anomalous Transaction: [4.5797614053088065, 629.5429104393208]\n",
      "Anomalous Transaction: [2.7503994751523213, 635.9974047228276]\n",
      "Anomalous Transaction: [2.5892265807921593, 969.3413045323003]\n",
      "Anomalous Transaction: [2.734711373676675, 532.4233115835266]\n",
      "Anomalous Transaction: [2.867293072295399, 720.3037160059905]\n",
      "Anomalous Transaction: [3.5872123228996946, 578.638006781415]\n",
      "Anomalous Transaction: [4.586932277631263, 881.481947072049]\n",
      "Anomalous Transaction: [4.660360046552756, 333.42719211202115]\n",
      "Anomalous Transaction: [4.115779380549088, 963.7760501937792]\n",
      "Anomalous Transaction: [3.317203000066434, 618.6582363129565]\n",
      "Anomalous Transaction: [4.148269235394496, 896.4850795268701]\n",
      "Anomalous Transaction: [4.827165240949174, 490.7857811522525]\n",
      "Anomalous Transaction: [4.298023700138364, 764.3167116254174]\n",
      "Anomalous Transaction: [2.553092103706393, 698.7827706749289]\n",
      "Anomalous Transaction: [2.307736880887088, 865.5115097273558]\n",
      "Anomalous Transaction: [4.728699222208298, 637.9413952454802]\n",
      "Anomalous Transaction: [4.43046023764136, 505.08369006715975]\n",
      "Anomalous Transaction: [2.7723441457297398, 769.8867916257635]\n",
      "Anomalous Transaction: [4.4068127632203895, 362.8234432983412]\n",
      "Anomalous Transaction: [3.116272245995269, 579.170312605399]\n",
      "Anomalous Transaction: [3.3964530680761706, 324.63473633149783]\n",
      "Anomalous Transaction: [4.916435443425538, 643.0735544065394]\n",
      "Anomalous Transaction: [3.900720561865771, 618.611188667769]\n",
      "Anomalous Transaction: [2.692574857049639, 784.1250526606973]\n",
      "Anomalous Transaction: [3.3166881004730775, 513.2272937683446]\n",
      "Anomalous Transaction: [3.7333287180235994, 484.60890179365356]\n",
      "Anomalous Transaction: [3.0688199588561638, 721.6839782844215]\n",
      "Anomalous Transaction: [4.485630815794486, 496.8413590328965]\n",
      "Anomalous Transaction: [4.491021093933222, 631.0663299537291]\n"
     ]
    },
    {
     "name": "stdout",
     "output_type": "stream",
     "text": [
      "Anomalous Transaction: [2.0721853555543763, 848.6801395174145]\n",
      "Anomalous Transaction: [3.1841624834875057, 545.5991825479731]\n",
      "Anomalous Transaction: [2.5088890263503085, 787.8748279247334]\n",
      "Anomalous Transaction: [3.7246582231107395, 781.218949914316]\n",
      "Anomalous Transaction: [3.472899077351385, 985.8716900958281]\n",
      "Anomalous Transaction: [4.4888011509929475, 739.0524795812495]\n",
      "Anomalous Transaction: [4.467209207311496, 786.2239956893659]\n",
      "Anomalous Transaction: [4.632184467229663, 871.689254361582]\n",
      "Anomalous Transaction: [4.540633969518165, 909.6228354932391]\n",
      "Anomalous Transaction: [3.010680692517554, 958.3019021510812]\n",
      "Anomalous Transaction: [2.2387623659964446, 954.5160945662394]\n",
      "Anomalous Transaction: [4.69537675123601, 743.0255278516092]\n",
      "Anomalous Transaction: [4.970624350194168, 683.7881290002275]\n",
      "Anomalous Transaction: [2.6226696379260206, 780.5058854268295]\n",
      "Anomalous Transaction: [2.185428421500371, 617.5921978241332]\n",
      "Anomalous Transaction: [4.715631912823303, 634.8319248374528]\n",
      "Anomalous Transaction: [2.2567790071198446, 686.60556374833]\n",
      "Anomalous Transaction: [2.2166630767591573, 547.602122170068]\n",
      "Anomalous Transaction: [3.0555867703227273, 953.3444266065153]\n",
      "Anomalous Transaction: [4.106560536990632, 680.1930275938472]\n",
      "Anomalous Transaction: [4.8326731461322625, 386.2229893662888]\n",
      "Anomalous Transaction: [3.3255338808979857, 962.7637483907037]\n",
      "Anomalous Transaction: [2.0854929565123967, 340.98159067339816]\n",
      "Anomalous Transaction: [2.234864359141365, 636.5312007086316]\n",
      "Anomalous Transaction: [4.369139749007745, 423.3117544606232]\n",
      "Anomalous Transaction: [3.530483755463317, 881.512715755805]\n",
      "Anomalous Transaction: [4.092079589050229, 853.4789075514929]\n",
      "Anomalous Transaction: [2.106568132576589, 356.14076520721585]\n",
      "Anomalous Transaction: [2.026278262238434, 862.4895292680317]\n",
      "Anomalous Transaction: [4.070356647068246, 947.026921605017]\n",
      "Anomalous Transaction: [4.461435058056095, 365.53326495018905]\n",
      "Anomalous Transaction: [3.8890601718863556, 912.5023418597651]\n",
      "Anomalous Transaction: [3.9286612208097957, 544.2833545691677]\n",
      "Anomalous Transaction: [3.4667814857464183, 396.11436172907344]\n",
      "Anomalous Transaction: [4.127004795848523, 373.7193938058562]\n",
      "Anomalous Transaction: [4.647338885207433, 647.4394480633136]\n",
      "Anomalous Transaction: [2.339040102605277, 392.08583402958214]\n",
      "Anomalous Transaction: [3.281213331455494, 319.57988951738025]\n",
      "Anomalous Transaction: [4.705064937656873, 909.7817555853537]\n",
      "Anomalous Transaction: [2.3095598878625148, 693.2664313250125]\n",
      "Anomalous Transaction: [4.827239741584722, 449.88741864915494]\n",
      "Anomalous Transaction: [4.44772205972893, 751.2919632020395]\n",
      "Anomalous Transaction: [3.641458874004013, 822.3800155310854]\n",
      "Anomalous Transaction: [3.4247997071563243, 630.7494517516224]\n",
      "Anomalous Transaction: [2.6393855673742985, 825.3841299992253]\n",
      "Anomalous Transaction: [3.6627082952427577, 753.1116468080232]\n",
      "Anomalous Transaction: [2.266162073563314, 838.3097770623198]\n",
      "Anomalous Transaction: [2.5785484007412043, 831.6518000196985]\n",
      "Anomalous Transaction: [4.721817415108102, 385.1725482790237]\n",
      "Anomalous Transaction: [3.55121302860965, 608.6263355976452]\n",
      "Anomalous Transaction: [4.110723391271366, 587.827136098942]\n",
      "Anomalous Transaction: [2.475522903532936, 755.9597877920153]\n",
      "Anomalous Transaction: [4.746899054040157, 633.3543837145503]\n",
      "Anomalous Transaction: [2.18144208701787, 874.9103767603198]\n",
      "Anomalous Transaction: [3.266270582267509, 622.65400640873]\n",
      "Anomalous Transaction: [3.9718355434407546, 502.58050577752914]\n",
      "Anomalous Transaction: [2.318338213121816, 454.4300128641964]\n",
      "Anomalous Transaction: [3.565139278180764, 845.1688250914845]\n",
      "Anomalous Transaction: [3.6559612974482665, 870.3262801587008]\n",
      "Anomalous Transaction: [2.5659940266317807, 580.2113159305732]\n",
      "Anomalous Transaction: [4.005809147716278, 583.543722456639]\n",
      "Anomalous Transaction: [3.264786998789261, 473.1821886842625]\n",
      "Anomalous Transaction: [4.87882777512902, 738.6000767741261]\n",
      "Anomalous Transaction: [2.916078663369211, 900.7319950871141]\n",
      "Anomalous Transaction: [4.17074519415892, 925.5084995347949]\n",
      "Anomalous Transaction: [2.038751624377224, 354.3015676562893]\n",
      "Anomalous Transaction: [2.5827186258121495, 770.3832790929864]\n",
      "Anomalous Transaction: [3.779734252886698, 759.7003799984932]\n",
      "Anomalous Transaction: [2.177634924546623, 352.02132116050143]\n",
      "Anomalous Transaction: [3.0539135541016824, 514.958623769639]\n",
      "Anomalous Transaction: [2.2594577875118316, 411.7368809771711]\n",
      "Anomalous Transaction: [4.441278191707145, 689.1984592628745]\n",
      "Anomalous Transaction: [4.602781523481567, 979.9439190428633]\n",
      "Anomalous Transaction: [2.8983148050280363, 965.4494984598512]\n",
      "Anomalous Transaction: [2.8911333333470592, 912.9357884903626]\n",
      "Anomalous Transaction: [3.6895383390325707, 434.1044721722375]\n",
      "Anomalous Transaction: [2.412109716046409, 890.1054671004814]\n",
      "Anomalous Transaction: [3.919221316655362, 692.1696096927319]\n",
      "Anomalous Transaction: [3.0657669069828626, 764.6886394925616]\n",
      "Anomalous Transaction: [3.7784225844593213, 684.6023797853475]\n",
      "Anomalous Transaction: [3.337273001784027, 551.3312385548929]\n",
      "Anomalous Transaction: [3.7112202897463304, 818.9209792850988]\n",
      "Anomalous Transaction: [4.591689695852734, 676.6734310173089]\n",
      "Anomalous Transaction: [2.5707483031043283, 751.2918114157965]\n",
      "Anomalous Transaction: [4.187704709932254, 951.7084451176516]\n",
      "Anomalous Transaction: [2.5554631678038753, 462.3679512012373]\n",
      "Anomalous Transaction: [4.95453774373269, 833.9333931510125]\n",
      "Anomalous Transaction: [4.995050780100209, 318.19202329916453]\n",
      "Anomalous Transaction: [3.4805884044242776, 437.9872627011271]\n",
      "Anomalous Transaction: [4.177962918319646, 478.6085639453664]\n",
      "Anomalous Transaction: [2.5481341994384406, 938.9372268971584]\n",
      "Anomalous Transaction: [3.5389108363972985, 311.5752934656853]\n",
      "Anomalous Transaction: [2.8503160843535715, 862.7458615888256]\n",
      "Anomalous Transaction: [2.963219551572343, 313.0631373575041]\n",
      "Anomalous Transaction: [2.5142071030879842, 965.5355898076816]\n",
      "Anomalous Transaction: [3.9496129223391794, 736.4160095509577]\n",
      "Anomalous Transaction: [4.547281728505062, 787.4776748820793]\n",
      "Anomalous Transaction: [2.639987562961272, 560.3515744248265]\n",
      "Anomalous Transaction: [3.7657496584172945, 496.7651419951061]\n",
      "Anomalous Transaction: [2.641388689102004, 796.286925518514]\n",
      "Anomalous Transaction: [3.916537615802228, 958.7316155763762]\n",
      "Anomalous Transaction: [2.548507848542778, 336.14830392898705]\n",
      "Anomalous Transaction: [4.4529828974845636, 306.6061946803997]\n",
      "Anomalous Transaction: [3.6041864691159793, 802.6415783410442]\n",
      "Anomalous Transaction: [4.477497831063631, 907.9801877052606]\n",
      "Anomalous Transaction: [2.523182190292629, 633.4093486553704]\n",
      "Anomalous Transaction: [2.521648564264226, 839.5297219104942]\n",
      "Anomalous Transaction: [3.433852769712642, 600.7058345428316]\n",
      "Anomalous Transaction: [4.2860994023034715, 697.8940049251439]\n",
      "Anomalous Transaction: [4.531929140797336, 820.6372302178034]\n",
      "Anomalous Transaction: [4.647222075613319, 600.7632025316668]\n",
      "Anomalous Transaction: [3.147765128531211, 854.7312405097592]\n",
      "Anomalous Transaction: [2.12130476843559, 882.6226575675287]\n",
      "Anomalous Transaction: [3.413300463566965, 350.4927445140008]\n",
      "Anomalous Transaction: [4.248819427001416, 689.2903044313173]\n",
      "Anomalous Transaction: [2.445016482348146, 822.0098950464968]\n",
      "Anomalous Transaction: [2.5021721853058585, 583.6979264557392]\n",
      "Anomalous Transaction: [3.70919838093491, 759.5283296646967]\n",
      "Anomalous Transaction: [2.9889024348203064, 607.8880545564057]\n",
      "Anomalous Transaction: [4.984423516854095, 432.26589344051047]\n",
      "Anomalous Transaction: [2.801159664105667, 657.0234085562848]\n",
      "Anomalous Transaction: [3.436251177497381, 903.0537753522058]\n",
      "Anomalous Transaction: [3.8283137323652565, 923.3865365849347]\n",
      "Anomalous Transaction: [3.331666804277625, 481.06105096334886]\n",
      "Anomalous Transaction: [4.652694814067719, 912.7635317700049]\n",
      "Anomalous Transaction: [4.111253346780512, 484.883204707097]\n",
      "Anomalous Transaction: [2.030651496316983, 349.7131565816551]\n",
      "Anomalous Transaction: [4.1753710843137455, 927.5280970421132]\n",
      "Anomalous Transaction: [4.624750581117674, 708.6466345826284]\n",
      "Anomalous Transaction: [3.70203068913057, 502.2037171601523]\n",
      "Anomalous Transaction: [3.0214183807320003, 765.4192347472704]\n",
      "Anomalous Transaction: [2.14731235658314, 853.0586118335773]\n",
      "Anomalous Transaction: [4.137272070572765, 827.3739225109543]\n",
      "Anomalous Transaction: [2.981151416277101, 487.8764901892591]\n",
      "Anomalous Transaction: [4.334875114984726, 982.8697093061272]\n",
      "Anomalous Transaction: [4.483067661739665, 573.6729902908276]\n",
      "Anomalous Transaction: [4.549525265543697, 519.5800191636076]\n",
      "Anomalous Transaction: [2.368490726217358, 432.08803641040424]\n",
      "Anomalous Transaction: [3.6506479360879043, 366.1473021176359]\n",
      "Anomalous Transaction: [3.9143429812203956, 764.6036387228717]\n",
      "Anomalous Transaction: [4.303939629564759, 441.032278285683]\n"
     ]
    },
    {
     "name": "stdout",
     "output_type": "stream",
     "text": [
      "Anomalous Transaction: [4.784482537787584, 561.3169617189733]\n",
      "Anomalous Transaction: [3.438972866321467, 739.7503570288766]\n",
      "Anomalous Transaction: [3.1211254812808913, 741.2803908041451]\n",
      "Anomalous Transaction: [4.949221143147855, 374.8244233913141]\n",
      "Anomalous Transaction: [4.918596295360308, 537.7402064182875]\n",
      "Anomalous Transaction: [3.7784759218783237, 948.7761708604952]\n",
      "Anomalous Transaction: [4.372818112250722, 394.53507178050825]\n",
      "Anomalous Transaction: [3.0134375111095317, 898.2456247053635]\n",
      "Anomalous Transaction: [4.783327763456179, 946.1459322345339]\n",
      "Anomalous Transaction: [4.598987641694066, 644.5307863526492]\n",
      "Anomalous Transaction: [2.513945573981591, 663.271406428302]\n",
      "Anomalous Transaction: [2.793655408849516, 306.2985041181024]\n",
      "Anomalous Transaction: [3.4882399682995104, 762.435352211431]\n",
      "Anomalous Transaction: [3.2714411322725296, 433.97485073345183]\n",
      "Anomalous Transaction: [2.1229856085945533, 829.0501409290408]\n",
      "Anomalous Transaction: [2.9343915299974914, 389.71978735790253]\n",
      "Anomalous Transaction: [3.733115431833738, 388.9684915788888]\n",
      "Anomalous Transaction: [4.878921167226585, 792.6494514074135]\n",
      "Anomalous Transaction: [4.827367777486473, 889.2163612283005]\n",
      "Anomalous Transaction: [4.819539418398305, 723.6605716650224]\n",
      "Anomalous Transaction: [2.070092461386091, 632.1634453463092]\n",
      "Anomalous Transaction: [3.319755967248702, 591.3971641393114]\n",
      "Anomalous Transaction: [2.9800781417104147, 725.9468615930593]\n",
      "Anomalous Transaction: [4.210654016528785, 784.0520451613952]\n",
      "Anomalous Transaction: [2.5356283588456887, 565.674457604649]\n",
      "Anomalous Transaction: [2.6969620332852506, 767.3666451422537]\n",
      "Anomalous Transaction: [4.933765826168534, 537.1065680695738]\n",
      "Anomalous Transaction: [4.914371549012959, 879.1721197739239]\n",
      "Anomalous Transaction: [3.614030082810199, 583.4433424589281]\n",
      "Anomalous Transaction: [3.3093559829839405, 587.5599434172798]\n",
      "Anomalous Transaction: [4.970516662352992, 941.290408215174]\n",
      "Anomalous Transaction: [3.1311942189936, 836.7534951217775]\n",
      "Anomalous Transaction: [2.49649841909099, 594.5067862131746]\n",
      "Anomalous Transaction: [2.9840110904882304, 312.2269978601689]\n",
      "Anomalous Transaction: [2.1411832965216937, 908.2345400956415]\n",
      "Anomalous Transaction: [2.6392654444771333, 402.51328170034446]\n",
      "Anomalous Transaction: [2.0217754811268347, 490.0154376007787]\n",
      "Anomalous Transaction: [2.8882344928537775, 383.90050281282663]\n",
      "Anomalous Transaction: [4.021576876329817, 433.18777918727574]\n",
      "Anomalous Transaction: [4.213367466810106, 790.664892019341]\n",
      "Anomalous Transaction: [3.0797394495636654, 339.4083386783353]\n",
      "Anomalous Transaction: [2.344302888127523, 699.196896596656]\n",
      "Anomalous Transaction: [3.2521349964168667, 443.19794936893663]\n",
      "Anomalous Transaction: [4.025058510149803, 525.2563801106048]\n",
      "Anomalous Transaction: [4.322394130643385, 424.2188091761357]\n",
      "Anomalous Transaction: [4.82898941737236, 825.5551591044648]\n",
      "Anomalous Transaction: [4.920231013956391, 692.161678488472]\n",
      "Anomalous Transaction: [4.543032046598343, 690.7324794860158]\n",
      "Number of anomalies: 498 among 10000 transactions\n"
     ]
    }
   ],
   "source": [
    "# We can deploy our model at the source of the data stream\n",
    "\n",
    "import random\n",
    "\n",
    "N = 10000\n",
    "i, k = 0, 0\n",
    "while True:\n",
    "    if random.random() < 0.05:\n",
    "        hour = random.random() * 3 + 2\n",
    "        amount = random.random() * 700 + 300\n",
    "    else:\n",
    "        hour = random.random() * 24\n",
    "        amount = random.random() * 100\n",
    "    transaction = [hour, amount]\n",
    "    if anomaly_detection([transaction]):\n",
    "        print(\"Anomalous Transaction: {}\".format(transaction))\n",
    "        k += 1\n",
    "    i += 1\n",
    "    if i > N:\n",
    "        print(\"Number of anomalies: {} among {} transactions\".format(k, N))\n",
    "        break"
   ]
  }
 ],
 "metadata": {
  "kernelspec": {
   "display_name": "Python 3",
   "language": "python",
   "name": "python3"
  },
  "language_info": {
   "codemirror_mode": {
    "name": "ipython",
    "version": 3
   },
   "file_extension": ".py",
   "mimetype": "text/x-python",
   "name": "python",
   "nbconvert_exporter": "python",
   "pygments_lexer": "ipython3",
   "version": "3.6.3"
  }
 },
 "nbformat": 4,
 "nbformat_minor": 2
}
